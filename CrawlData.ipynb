{
 "cells": [
  {
   "cell_type": "code",
   "execution_count": 1,
   "metadata": {},
   "outputs": [],
   "source": [
    "from selenium import webdriver\n",
    "import pandas as pd\n",
    "import time"
   ]
  },
  {
   "cell_type": "code",
   "execution_count": 15,
   "metadata": {},
   "outputs": [],
   "source": [
    "driver = webdriver.Chrome(r'link_to_chromedriver.exe')"
   ]
  },
  {
   "cell_type": "code",
   "execution_count": 3,
   "metadata": {},
   "outputs": [],
   "source": [
    "lstBestseller=['https://tiki.vn/bestsellers-month/sach-truyen-tieng-viet/c316?p=1&_lc=Vk4wMzkwMjQwMDU%3D',\n",
    "              'https://tiki.vn/bestsellers-month/sach-truyen-tieng-viet/c316?p=2&_lc=Vk4wMzkwMjQwMDU%3D',\n",
    "              'https://tiki.vn/bestsellers-month/sach-truyen-tieng-viet/c316?p=3&_lc=Vk4wMzkwMjQwMDU%3D',\n",
    "              'https://tiki.vn/bestsellers-month/sach-truyen-tieng-viet/c316?p=4&_lc=Vk4wMzkwMjQwMDU%3D']"
   ]
  },
  {
   "cell_type": "code",
   "execution_count": 5,
   "metadata": {
    "scrolled": true
   },
   "outputs": [],
   "source": [
    "for i,url in enumerate(lstBestseller):\n",
    "    driver.get(url)\n",
    "    content=driver.find_elements_by_xpath('//*[@class=\"bestseller-cat-item\"]')\n",
    "    contentLink=driver.find_elements_by_xpath('//*[@class=\"title\"]/a')\n",
    "    for j,c in enumerate(content):\n",
    "        lstBooks.append([\n",
    "            c.get_attribute('data-id'),\n",
    "            c.get_attribute('data-price'),\n",
    "            c.get_attribute('data-title'),\n",
    "            c.get_attribute('data-brand'),\n",
    "            c.get_attribute('data-category'),\n",
    "            contentLink[j].get_attribute('href')\n",
    "        ])\n",
    "    "
   ]
  },
  {
   "cell_type": "code",
   "execution_count": null,
   "metadata": {
    "scrolled": true
   },
   "outputs": [],
   "source": [
    "for book in lstBooks:\n",
    "    print(book[5])\n",
    "    lstcontent=[]\n",
    "    driver.get(book[5])\n",
    "    page_number=1\n",
    "    while True:\n",
    "        print(page_number)\n",
    "        driver.execute_script(\"window.scrollTo(0, document.body.scrollHeight);\")\n",
    "        time.sleep(1)\n",
    "        content=driver.find_elements_by_xpath('//*[@class=\"ReviewItem__Wrapper-sx418m-0 kyLAMG\"]')\n",
    "        if len(content)>0:\n",
    "            for i,c in enumerate(content):\n",
    "                path='//*[@class=\"ReviewItem__Wrapper-sx418m-0 kyLAMG\"][%d]'%(i+1)\n",
    "                lstcontent.append(driver.find_elements_by_xpath(path+'/div[2]/p[@class=\"content\"]')[0].text)\n",
    "                try:\n",
    "                    driver.find_elements_by_xpath(path+'/div[2]/button')[0].click()\n",
    "                except:\n",
    "                    a='Nothing'   \n",
    "            contentRep=driver.find_elements_by_xpath('//*[@class=\"text content\"]')\n",
    "            lstcontent=lstcontent+[c.text for c in contentRep]\n",
    "        try:\n",
    "            driver.execute_script(\"window.scrollTo(0, document.body.scrollHeight);\")\n",
    "            driver.find_elements_by_xpath('//*[@class=\"btn next\"]')[0].click()\n",
    "            page_number+=1\n",
    "        except:\n",
    "            break\n",
    "    for c in lstcontent:\n",
    "        lstall.append([book[0], book[1],book[2], book[3], book[4], c])\n",
    "        \n",
    "dataall=pd.DataFrame()\n",
    "dataall['id']=[i[0] for i in lstall]\n",
    "dataall['price']=[i[1] for i in lstall]\n",
    "dataall['title']=[i[2] for i in lstall]\n",
    "dataall['brand']=[i[3] for i in lstall]\n",
    "dataall['category']=[i[4] for i in lstall]\n",
    "dataall['content']=[i[5] for i in lstall]\n",
    "dataall.to_excel('mydata.xlsx')"
   ]
  },
  {
   "cell_type": "code",
   "execution_count": 30,
   "metadata": {},
   "outputs": [],
   "source": [
    "dataall=pd.DataFrame()\n",
    "dataall['id']=[i[0] for i in lstall]\n",
    "dataall['price']=[i[1] for i in lstall]\n",
    "dataall['title']=[i[2] for i in lstall]\n",
    "dataall['brand']=[i[3] for i in lstall]\n",
    "dataall['category']=[i[4] for i in lstall]\n",
    "dataall['content']=[i[5] for i in lstall]"
   ]
  },
  {
   "cell_type": "code",
   "execution_count": 31,
   "metadata": {},
   "outputs": [],
   "source": [
    "dataall.to_excel('mydataexcelv2.xlsx')"
   ]
  },
  {
   "cell_type": "code",
   "execution_count": 40,
   "metadata": {},
   "outputs": [],
   "source": [
    "driver.close()\n",
    "\n",
    "#07/05/2020 - 14h00"
   ]
  }
 ],
 "metadata": {
  "kernelspec": {
   "display_name": "Python 3",
   "language": "python",
   "name": "python3"
  },
  "language_info": {
   "codemirror_mode": {
    "name": "ipython",
    "version": 3
   },
   "file_extension": ".py",
   "mimetype": "text/x-python",
   "name": "python",
   "nbconvert_exporter": "python",
   "pygments_lexer": "ipython3",
   "version": "3.7.3"
  }
 },
 "nbformat": 4,
 "nbformat_minor": 2
}
