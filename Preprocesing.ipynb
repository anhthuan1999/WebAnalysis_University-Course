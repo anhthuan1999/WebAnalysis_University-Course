{
 "cells": [
  {
   "cell_type": "code",
   "execution_count": 1,
   "metadata": {},
   "outputs": [],
   "source": [
    "import numpy as np\n",
    "import pandas as pd\n",
    "import matplotlib.pyplot as plt\n",
    "import copy\n",
    "import re"
   ]
  },
  {
   "cell_type": "code",
   "execution_count": 2,
   "metadata": {},
   "outputs": [],
   "source": [
    "df=pd.read_excel(r'mydataexcelv2.xlsx')"
   ]
  },
  {
   "cell_type": "code",
   "execution_count": null,
   "metadata": {},
   "outputs": [],
   "source": [
    "#LocLan1\n",
    "dfclean=pd.read_excel('Clean Data.xlsx','Sheet 1')\n",
    "dfclean['Replace']=dfclean['Replace'].fillna(' ')\n",
    "df['content']=[' '+str(i)+' ' for i in df['content']]\n",
    "dfclean['Word']=[' '+str(i)+' ' for i in dfclean['Word']]\n",
    "dfclean['Replace']=[' '+str(i)+' ' for i in dfclean['Replace']]\n",
    "df['content1']=df['content'].str.replace(('(!)|(\\.)|(/)|(,)|(\")'),'')\n",
    "df['content1']=df['content1'].str.lower()\n",
    "for i in range(len(dfclean)):\n",
    "    df['content1']=df['content1'].str.replace(dfclean['Word'][i],dfclean['Replace'][i])"
   ]
  },
  {
   "cell_type": "code",
   "execution_count": 5,
   "metadata": {},
   "outputs": [],
   "source": [
    "#LocLan2\n",
    "dfclean2=pd.read_excel('Clean Data.xlsx','Loc2')\n",
    "dfclean2['Fixing Status']=dfclean2['Fixing Status'].fillna(' ')\n",
    "df['content1']=[' '+str(i).strip()+' ' for i in df['content1'].to_list()]\n",
    "dfclean2['Word']=[' '+str(i)+' ' for i in dfclean2['Word'].to_list()]\n",
    "dfclean2['Fixing Status']=[' '+str(i)+' ' for i in dfclean2['Fixing Status'].to_list()]\n",
    "df['content2']=df['content1'].str.lower()\n",
    "for i in range(len(dfclean2)):\n",
    "    df['content2']=df['content2'].str.replace(dfclean2['Word'].to_list()[i],dfclean2['Fixing Status'].to_list()[i])"
   ]
  },
  {
   "cell_type": "code",
   "execution_count": 5,
   "metadata": {},
   "outputs": [],
   "source": [
    "dftest=copy.deepcopy(df)\n",
    "for i, nd in enumerate(df['content2'].to_list()):\n",
    "    if 'chào bạn tiki đã nhận được nhận xét' in nd:\n",
    "        dftest=dftest.drop(i)\n",
    "dftest=dftest.reset_index()"
   ]
  },
  {
   "cell_type": "code",
   "execution_count": 61,
   "metadata": {},
   "outputs": [],
   "source": [
    "lstlocerror=['\\udd17','\\udd37','\\udd0d','\\udd70','\\udd23','\\udd14','\\udd2d','\\udde0','\\udd13','\\udd26','\\udd1d','\\udd24','\\udd74'\n",
    "            '\\udd2a','\\udd2a','\\udde1','\\udd27','\\udd29','\\udd2e','\\udd7a','\\udd18','\\udd73','\\udd12','','','','','']\n",
    "for e in lstlocerror:\n",
    "    dftest['content2']=dftest['content2'].str.replace(e,'')"
   ]
  },
  {
   "cell_type": "code",
   "execution_count": 76,
   "metadata": {},
   "outputs": [],
   "source": [
    "dftest[['id', 'price', 'title', 'brand', 'category', \n",
    "       'Label', 'content2']].to_excel('masterdata.xlsx')\n",
    "dftest=dftest[dftest['content2']!='  ']"
   ]
  },
  {
   "cell_type": "code",
   "execution_count": 37,
   "metadata": {},
   "outputs": [
    {
     "name": "stdout",
     "output_type": "stream",
     "text": [
      " > be me > an intellectual wannabe > never read a single book > decided to pick one title > this book > expect to learn about human history > get into ideology instead > buddhism fuck > achieve enlightenment > btw i use arch \n"
     ]
    }
   ],
   "source": [
    "dftest.to_excel('myexcel_format.xlsx')"
   ]
  }
 ],
 "metadata": {
  "kernelspec": {
   "display_name": "Python 3",
   "language": "python",
   "name": "python3"
  },
  "language_info": {
   "codemirror_mode": {
    "name": "ipython",
    "version": 3
   },
   "file_extension": ".py",
   "mimetype": "text/x-python",
   "name": "python",
   "nbconvert_exporter": "python",
   "pygments_lexer": "ipython3",
   "version": "3.7.3"
  }
 },
 "nbformat": 4,
 "nbformat_minor": 2
}
