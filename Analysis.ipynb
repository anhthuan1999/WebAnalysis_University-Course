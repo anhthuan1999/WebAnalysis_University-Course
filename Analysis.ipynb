{
 "cells": [
  {
   "cell_type": "code",
   "execution_count": 1,
   "metadata": {},
   "outputs": [],
   "source": [
    "import numpy as np\n",
    "import pandas as pd\n",
    "import copy\n",
    "\n",
    "import gensim\n",
    "import sklearn\n",
    "from sklearn import svm\n",
    "from sklearn.model_selection import train_test_split\n",
    "from sklearn.metrics import classification_report\n",
    "from sklearn.feature_extraction.text import TfidfVectorizer\n",
    "from scipy import sparse\n",
    "from sklearn.metrics import f1_score\n",
    "from IPython.display import clear_output"
   ]
  },
  {
   "cell_type": "code",
   "execution_count": 24,
   "metadata": {},
   "outputs": [],
   "source": [
    "df=pd.read_excel(r'mydatav2.xlsx')\n",
    "dfclean=pd.read_excel('Clean Data.xlsx','Example')\n",
    "dfall=pd.read_excel(r'C:\\Users\\Tran Anh Thuan\\Desktop\\Untitled Folder\\dfall.xlsx',1)"
   ]
  },
  {
   "cell_type": "code",
   "execution_count": 25,
   "metadata": {},
   "outputs": [],
   "source": [
    "dfapply=df[df['title']=='Nhà Giả Kim']"
   ]
  },
  {
   "cell_type": "code",
   "execution_count": 9,
   "metadata": {},
   "outputs": [],
   "source": [
    "lstContentTest=dfapply['content'].to_list()"
   ]
  },
  {
   "cell_type": "code",
   "execution_count": null,
   "metadata": {},
   "outputs": [],
   "source": [
    "dfPhanloai=pd.DataFrame(columns=['Word','Type'])\n",
    "for j,c in enumerate(lstContentTest):\n",
    "    for i,k in enumerate(dfall['Word'].to_list()):\n",
    "        if k in c:\n",
    "            dfPhanloai=dfPhanloai.append({'Word':c,'Type':dfall['Type2'].to_list()[i],'Stt':j},ignore_index=True)"
   ]
  },
  {
   "cell_type": "markdown",
   "metadata": {},
   "source": [
    "# NLP"
   ]
  },
  {
   "cell_type": "code",
   "execution_count": null,
   "metadata": {},
   "outputs": [],
   "source": [
    "tfidf_vect_ngram = TfidfVectorizer(ngram_range=(1, 2))\n",
    "tfidf_vect_ngram.fit(df['content2'])\n",
    "tfidf_vectorizer_vectors=tfidf_vect_ngram.fit_transform(df['content2'])\n",
    "X_data_tfidf_ngram =  tfidf_vect_ngram.transform(df['content2'])"
   ]
  },
  {
   "cell_type": "code",
   "execution_count": null,
   "metadata": {},
   "outputs": [],
   "source": [
    "label=df['Label'][:400].to_list()"
   ]
  },
  {
   "cell_type": "code",
   "execution_count": null,
   "metadata": {},
   "outputs": [],
   "source": [
    "filenametrainx = 'X_train.pkl'\n",
    "filenametrainy = 'y_train.pkl'\n",
    "filenamelog='logfile.txt'\n",
    "\n",
    "X_train=copy.deepcopy(X_data_tfidf_ngram[:300])\n",
    "y_train=copy.deepcopy(label[:300])\n",
    "\n",
    "X_val=copy.deepcopy(X_data_tfidf_ngram[300:400])\n",
    "y_val=copy.deepcopy(label[300:400])\n",
    "\n",
    "\"\"\"\n",
    "X_train = joblib.load(filenametrainx)\n",
    "y_train=joblib.load(filenametrainy)\n",
    "\"\"\""
   ]
  },
  {
   "cell_type": "code",
   "execution_count": null,
   "metadata": {},
   "outputs": [
    {
     "name": "stdout",
     "output_type": "stream",
     "text": [
      "(15077, 168357)\n",
      "197.0\n",
      "0.7821268237934905\n",
      "\n"
     ]
    }
   ],
   "source": [
    "#Parameters\n",
    "m=400\n",
    "step=100\n",
    "threshold=0.9\n",
    "limit=25800\n",
    "Cpara=10\n",
    "gammapara=0.001\n",
    "#Code\n",
    "while True:\n",
    "    if m>limit:\n",
    "        break;\n",
    "\n",
    "    strlog=str(X_train.shape)+\"\\n\"\n",
    "    clf=svm.SVC(kernel='rbf',C=Cpara,probability=True,gamma=gammapara)\n",
    "    clf.fit(X_train, y_train)\n",
    "    X_test=X_data_tfidf_ngram[m:m+step]\n",
    "    result=clf.predict_proba(X_test)\n",
    "    for i,prob in enumerate(result):\n",
    "        if np.amax(prob)>=threshold:\n",
    "            X_train=sparse.vstack((X_train,X_data_tfidf_ngram[m+i]))\n",
    "            y_train.append(np.where(prob==np.amax(prob))[0][0]-1)\n",
    "\n",
    "    val_predictions = clf.predict(X_val)\n",
    "    strlog+=(str(m/100)+\"\\n\")\n",
    "    strlog+=(str(f1_score(val_predictions, y_val,average='macro'))+\"\\n\")\n",
    "    log=open(filenamelog,'w')\n",
    "    log.write(strlog)\n",
    "    log.close()\n",
    "    clear_output(wait=True)\n",
    "    pickle.dump(X_train, open(filenametrainx, 'wb'))\n",
    "    pickle.dump(y_train, open(filenametrainy, 'wb'))\n",
    "    print(strlog)\n",
    "    m+=step"
   ]
  },
  {
   "cell_type": "code",
   "execution_count": null,
   "metadata": {},
   "outputs": [],
   "source": []
  }
 ],
 "metadata": {
  "kernelspec": {
   "display_name": "Python 3",
   "language": "python",
   "name": "python3"
  },
  "language_info": {
   "codemirror_mode": {
    "name": "ipython",
    "version": 3
   },
   "file_extension": ".py",
   "mimetype": "text/x-python",
   "name": "python",
   "nbconvert_exporter": "python",
   "pygments_lexer": "ipython3",
   "version": "3.7.3"
  }
 },
 "nbformat": 4,
 "nbformat_minor": 2
}
